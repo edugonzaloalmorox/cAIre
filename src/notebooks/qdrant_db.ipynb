{
 "cells": [
  {
   "attachments": {},
   "cell_type": "markdown",
   "metadata": {},
   "source": [
    "# Intro \n",
    "\n",
    "This notebook shows the steps for loading information to a Qdrant data base\n",
    "\n",
    "- **Create a client** for Qdrant data base\n",
    "- **Create a collection**: the database that will store two types of information\n",
    "\n",
    "    - Vectors: Embeddings -> Numerical vectors of the pieces of text\n",
    "    \n",
    "    - Payload: Additional information to consider in the search\n",
    "\n",
    "- **Create the embeddings** or in other words the vectors that represent the information\n",
    "- **Load the information to Qdrant collection** this collection will drive the model"
   ]
  },
  {
   "cell_type": "code",
   "execution_count": 1,
   "metadata": {},
   "outputs": [],
   "source": [
    "import json\n",
    "\n",
    "import numpy as np\n",
    "import pandas as pd\n",
    "import torch\n",
    "\n",
    "from qdrant_client import QdrantClient\n",
    "from qdrant_client.http import models \n",
    "from sentence_transformers import SentenceTransformer\n",
    "import os"
   ]
  },
  {
   "attachments": {},
   "cell_type": "markdown",
   "metadata": {},
   "source": [
    "# Create a client"
   ]
  },
  {
   "cell_type": "code",
   "execution_count": 2,
   "metadata": {},
   "outputs": [],
   "source": [
    "\n",
    "os.environ['QDRANT_HOST'] = 'https://c670fc3d-8a23-4b19-8b93-23e8f92cc2fe.europe-west3-0.gcp.cloud.qdrant.io:6333'\n",
    "os.environ['QDRANT_API_KEY'] = 'kahBQdKVTA9mE2idCWAlEJkMIxZnJ6TglLhpIIXWkSptanG_NxR_GA'\n",
    "\n",
    "client = QdrantClient(\n",
    "    os.getenv('QDRANT_HOST'),\n",
    "    api_key=os.getenv('QDRANT_API_KEY')\n",
    ") "
   ]
  },
  {
   "attachments": {},
   "cell_type": "markdown",
   "metadata": {},
   "source": [
    "# Create the collection "
   ]
  },
  {
   "cell_type": "code",
   "execution_count": 3,
   "metadata": {},
   "outputs": [
    {
     "data": {
      "text/plain": [
       "True"
      ]
     },
     "execution_count": 3,
     "metadata": {},
     "output_type": "execute_result"
    }
   ],
   "source": [
    "\n",
    "\n",
    "os.environ['QDRANT_COLLECTION_NAME'] = 'care-collection'\n",
    "\n",
    "# using sentence-transformers/msmarco-MiniLM-L-6-v3\n",
    "vectors_config = models.VectorParams(\n",
    "    size=384, # dimension of vectors returned by the embeddings model\n",
    "    distance= models.Distance.COSINE\n",
    ")\n",
    "\n",
    "client.recreate_collection( \n",
    "    collection_name=os.getenv('QDRANT_COLLECTION_NAME'), \n",
    "    vectors_config=vectors_config\n",
    ")"
   ]
  },
  {
   "attachments": {},
   "cell_type": "markdown",
   "metadata": {},
   "source": [
    "# Create the vectors"
   ]
  },
  {
   "attachments": {},
   "cell_type": "markdown",
   "metadata": {},
   "source": [
    "### Load the dataset where there is text data and the payload"
   ]
  },
  {
   "cell_type": "code",
   "execution_count": 16,
   "metadata": {},
   "outputs": [
    {
     "data": {
      "text/html": [
       "<div>\n",
       "<style scoped>\n",
       "    .dataframe tbody tr th:only-of-type {\n",
       "        vertical-align: middle;\n",
       "    }\n",
       "\n",
       "    .dataframe tbody tr th {\n",
       "        vertical-align: top;\n",
       "    }\n",
       "\n",
       "    .dataframe thead th {\n",
       "        text-align: right;\n",
       "    }\n",
       "</style>\n",
       "<table border=\"1\" class=\"dataframe\">\n",
       "  <thead>\n",
       "    <tr style=\"text-align: right;\">\n",
       "      <th></th>\n",
       "      <th>rev</th>\n",
       "      <th>text</th>\n",
       "      <th>date_review</th>\n",
       "      <th>care_home</th>\n",
       "      <th>provider_name</th>\n",
       "      <th>code</th>\n",
       "    </tr>\n",
       "  </thead>\n",
       "  <tbody>\n",
       "    <tr>\n",
       "      <th>0</th>\n",
       "      <td>My mother-in-law has settled really well at Au...</td>\n",
       "      <td>My mother-in-law has settled really well at Au...</td>\n",
       "      <td>2021-01-08</td>\n",
       "      <td>Auden House care home</td>\n",
       "      <td>Auden House Care Limited</td>\n",
       "      <td>M34 5PS</td>\n",
       "    </tr>\n",
       "    <tr>\n",
       "      <th>1</th>\n",
       "      <td>Auden House is a breath of fresh air. It provi...</td>\n",
       "      <td>Auden House is a breath of fresh air. It provi...</td>\n",
       "      <td>2020-12-15</td>\n",
       "      <td>Auden House care home</td>\n",
       "      <td>Auden House Care Limited</td>\n",
       "      <td>M34 5PS</td>\n",
       "    </tr>\n",
       "    <tr>\n",
       "      <th>2</th>\n",
       "      <td>My father moved into the care home in May 2020...</td>\n",
       "      <td>My father moved into the care home in May 2020...</td>\n",
       "      <td>2020-12-15</td>\n",
       "      <td>Auden House care home</td>\n",
       "      <td>Auden House Care Limited</td>\n",
       "      <td>M34 5PS</td>\n",
       "    </tr>\n",
       "    <tr>\n",
       "      <th>3</th>\n",
       "      <td>My Mum has been a resident in Auden House for ...</td>\n",
       "      <td>My Mum has been a resident in Auden House for ...</td>\n",
       "      <td>2020-12-15</td>\n",
       "      <td>Auden House care home</td>\n",
       "      <td>Auden House Care Limited</td>\n",
       "      <td>M34 5PS</td>\n",
       "    </tr>\n",
       "    <tr>\n",
       "      <th>4</th>\n",
       "      <td>Our mum originally went into Auden House in Ju...</td>\n",
       "      <td>Our mum originally went into Auden House in Ju...</td>\n",
       "      <td>2020-12-15</td>\n",
       "      <td>Auden House care home</td>\n",
       "      <td>Auden House Care Limited</td>\n",
       "      <td>M34 5PS</td>\n",
       "    </tr>\n",
       "  </tbody>\n",
       "</table>\n",
       "</div>"
      ],
      "text/plain": [
       "                                                 rev  \\\n",
       "0  My mother-in-law has settled really well at Au...   \n",
       "1  Auden House is a breath of fresh air. It provi...   \n",
       "2  My father moved into the care home in May 2020...   \n",
       "3  My Mum has been a resident in Auden House for ...   \n",
       "4  Our mum originally went into Auden House in Ju...   \n",
       "\n",
       "                                                text date_review  \\\n",
       "0  My mother-in-law has settled really well at Au...  2021-01-08   \n",
       "1  Auden House is a breath of fresh air. It provi...  2020-12-15   \n",
       "2  My father moved into the care home in May 2020...  2020-12-15   \n",
       "3  My Mum has been a resident in Auden House for ...  2020-12-15   \n",
       "4  Our mum originally went into Auden House in Ju...  2020-12-15   \n",
       "\n",
       "               care_home             provider_name     code  \n",
       "0  Auden House care home  Auden House Care Limited  M34 5PS  \n",
       "1  Auden House care home  Auden House Care Limited  M34 5PS  \n",
       "2  Auden House care home  Auden House Care Limited  M34 5PS  \n",
       "3  Auden House care home  Auden House Care Limited  M34 5PS  \n",
       "4  Auden House care home  Auden House Care Limited  M34 5PS  "
      ]
     },
     "metadata": {},
     "output_type": "display_data"
    },
    {
     "data": {
      "text/plain": [
       "1436"
      ]
     },
     "metadata": {},
     "output_type": "display_data"
    }
   ],
   "source": [
    "\n",
    "\n",
    "\n",
    "df = pd.read_csv('/Users/personas/Dropbox/care_homes_university/sentiment/ltc-reviews/reviews_analysis/data/reviews_greater_manchester_complete.csv')\n",
    "\n",
    "\n",
    "df['text'] = df['rev']\n",
    "metadata_df = df[['rev', 'text', 'date_review', 'care_home', 'provider_name', 'code']]\n",
    "# filter out reviews before 2020 to meet Batch size limit\n",
    "metadata_df = metadata_df[(metadata_df['date_review'] > \"2020-01-01\")]\n",
    "display(metadata_df.head(5))\n",
    "display(len(metadata_df))\n",
    "\n"
   ]
  },
  {
   "cell_type": "code",
   "execution_count": null,
   "metadata": {},
   "outputs": [],
   "source": []
  },
  {
   "attachments": {},
   "cell_type": "markdown",
   "metadata": {},
   "source": [
    "### Load the model create the embeddings and an index"
   ]
  },
  {
   "cell_type": "code",
   "execution_count": 6,
   "metadata": {},
   "outputs": [],
   "source": [
    "# msmarco-MiniLM-L-6-v3\n",
    "\n",
    "model = SentenceTransformer(\n",
    "    \"msmarco-MiniLM-L-6-v3\",\n",
    "    device=\"cuda\"\n",
    "    if torch.cuda.is_available()\n",
    "    else \"mps\"\n",
    "    if torch.backends.mps.is_available()\n",
    "    else \"cpu\",\n",
    ")\n",
    "\n",
    "\n",
    "vectors = []\n",
    "batch_size = 512\n",
    "batch = []\n",
    "\n",
    "\n",
    "for doc in metadata_df[\"rev\"].to_list():\n",
    "    batch.append(doc)\n",
    "\n",
    "    if len(batch) >= batch_size:\n",
    "        vectors.append(model.encode(batch))\n",
    "        batch = []\n",
    "\n",
    "if len(batch) > 0:\n",
    "    vectors.append(model.encode(batch))\n",
    "    batch = []\n",
    "\n",
    "vectors = np.concatenate(vectors)\n"
   ]
  },
  {
   "cell_type": "code",
   "execution_count": 24,
   "metadata": {},
   "outputs": [
    {
     "data": {
      "text/plain": [
       "1436"
      ]
     },
     "metadata": {},
     "output_type": "display_data"
    },
    {
     "data": {
      "text/plain": [
       "array([[ 0.23375982, -0.1051191 , -0.09238673, ...,  0.2002763 ,\n",
       "        -0.02410727, -0.21097781],\n",
       "       [-0.07133141, -0.17226437,  0.05197802, ...,  0.3818317 ,\n",
       "        -0.29250535, -0.25625592],\n",
       "       [ 0.1434832 , -0.05654013,  0.06152335, ...,  0.3676012 ,\n",
       "        -0.12712899,  0.0238701 ],\n",
       "       ...,\n",
       "       [-0.02019383,  0.06343129,  0.49209467, ...,  0.08434742,\n",
       "        -0.03095722,  0.06525056],\n",
       "       [ 0.528846  , -0.16134685, -0.16229698, ..., -0.05249184,\n",
       "         0.04291157,  0.24380703],\n",
       "       [ 0.27887225, -0.20670782,  0.02902296, ...,  0.03530879,\n",
       "         0.01489652, -0.36518615]], dtype=float32)"
      ]
     },
     "execution_count": 24,
     "metadata": {},
     "output_type": "execute_result"
    }
   ],
   "source": [
    "type(vectors[0, 0]), vectors[:2, :20]\n",
    "display(len(vectors))\n",
    "vectors"
   ]
  },
  {
   "cell_type": "code",
   "execution_count": 23,
   "metadata": {},
   "outputs": [
    {
     "data": {
      "text/plain": [
       "(1436, (1436, 384), dtype('float32'))"
      ]
     },
     "execution_count": 23,
     "metadata": {},
     "output_type": "execute_result"
    }
   ],
   "source": [
    "vectors = vectors.astype(np.float32)\n",
    "len(vectors), vectors.shape, vectors.dtype"
   ]
  },
  {
   "cell_type": "code",
   "execution_count": 13,
   "metadata": {},
   "outputs": [
    {
     "data": {
      "text/plain": [
       "1436"
      ]
     },
     "execution_count": 13,
     "metadata": {},
     "output_type": "execute_result"
    }
   ],
   "source": [
    "# create and index \n",
    "\n",
    "index_mod = list(range(len(metadata_df)))\n",
    "len(index_mod)"
   ]
  },
  {
   "cell_type": "code",
   "execution_count": 17,
   "metadata": {},
   "outputs": [
    {
     "data": {
      "text/plain": [
       "[{'text': 'My mother-in-law has settled really well at Auden House. All contact with the home although usually not face to face because of the Covid crisis has been extremely positive nothing is too much trouble. We are extremely satisfied.',\n",
       "  'date_review': '2021-01-08',\n",
       "  'care_home': 'Auden House care home',\n",
       "  'provider_name': 'Auden House Care Limited',\n",
       "  'code': 'M34 5PS'},\n",
       " {'text': \"Auden House is a breath of fresh air. It provides a safe, caring and friendly home for a treasured Aunt and allows her family and friends to rest easy in the knowledge that she is happy and well cared for. Her individual quirks and foibles are accepted gracefully and with good humour and my aunt has flourished since she has been a resident. I couldn't recommend Auden House more highly. The staff are always helpful and clearly prioritise the wellbeing of their residents above all else. The property and garden are all we could wish for in this handy and pleasant location. Thank you everyone working at Auden House.\",\n",
       "  'date_review': '2020-12-15',\n",
       "  'care_home': 'Auden House care home',\n",
       "  'provider_name': 'Auden House Care Limited',\n",
       "  'code': 'M34 5PS'}]"
      ]
     },
     "execution_count": 17,
     "metadata": {},
     "output_type": "execute_result"
    }
   ],
   "source": [
    "# create the payloads\n",
    "\n",
    "payload = metadata_df[['text','date_review', 'care_home', 'provider_name', 'code']].to_dict(orient=\"records\")\n",
    "payload[:2]\n",
    "payload[0]['text'].astype(str)\n"
   ]
  },
  {
   "attachments": {},
   "cell_type": "markdown",
   "metadata": {},
   "source": [
    "# Adding points to the data base\n",
    "\n",
    "The points are the central entity that Qdrant operates with. A point is a record consisting of a vector and an optional payload.\n",
    "\n",
    "- Vector: numerical representation of text\n",
    "- Payload: additional information to the vector"
   ]
  },
  {
   "attachments": {},
   "cell_type": "markdown",
   "metadata": {},
   "source": []
  },
  {
   "cell_type": "code",
   "execution_count": 18,
   "metadata": {},
   "outputs": [
    {
     "data": {
      "text/plain": [
       "UpdateResult(operation_id=1, status=<UpdateStatus.COMPLETED: 'completed'>)"
      ]
     },
     "execution_count": 18,
     "metadata": {},
     "output_type": "execute_result"
    }
   ],
   "source": [
    "client.upsert(\n",
    "    collection_name=os.environ['QDRANT_COLLECTION_NAME'],\n",
    "    points=models.Batch(\n",
    "        ids=index_mod,\n",
    "        vectors=vectors.tolist(),\n",
    "        payloads=payload\n",
    "    )\n",
    ")\n"
   ]
  },
  {
   "cell_type": "code",
   "execution_count": null,
   "metadata": {},
   "outputs": [],
   "source": []
  },
  {
   "cell_type": "code",
   "execution_count": 21,
   "metadata": {},
   "outputs": [
    {
     "data": {
      "text/plain": [
       "[Record(id=100, payload={'care_home': 'Avonleigh Gardens care home', 'code': 'OL1 4HT', 'date_review': '2020-06-12', 'provider_name': 'Methodist Homes', 'text': \"I think you all are doing a brilliant job with my wife and all the residents. You all deserve medals. Reading the reviews, I think what other people have written is what I'm thinking too. So thanks again.\"}, vector=[0.015682852, 0.00072113075, 0.054558348, -0.022413597, -0.0018751859, 0.024194222, 0.01820496, -0.06553036, -0.07232475, -0.0065110438, -0.06660734, -0.0035907894, -0.025015058, 0.025189197, -0.010422286, 0.018539064, 0.014190554, 0.03456997, -0.122880414, 0.024938138, -0.137664, 0.02718843, 0.0023287907, 0.09651994, -0.034982976, 0.013059309, -0.0042842147, 0.063319996, -0.073378436, -0.01486554, -0.07441012, -0.04840662, 0.06612397, -0.008279531, -0.06639515, 0.09603335, -0.024393342, 0.003222545, -0.038819738, -0.029137202, 0.021889769, 0.0017680416, 0.05184927, -0.035655774, -0.040645584, -0.07200059, 0.057309028, -0.030947054, -0.010306744, -0.023278924, -0.0024480794, -0.0038326737, -0.0027190335, -0.04069447, 0.03501432, 0.006885301, 0.06569379, 0.038364086, 0.01856669, -0.071044825, 0.05359829, -0.017581096, 0.10647529, 0.016798137, 0.032813303, 0.018372376, -0.01938337, 0.1554813, -0.060043544, -0.0024064158, 0.034361366, 0.024945162, -0.01106192, 0.055342067, -0.003675532, 0.015117256, 0.02524795, -0.018305684, -0.008164836, 0.0015732582, -0.07723534, 0.018485289, 0.008199226, -0.057263784, 0.00744991, -0.06370606, -0.013556254, -0.049343456, 0.028433062, 0.0053094765, 0.05051352, 0.027439028, 0.10888214, -0.05846463, 0.0160673, 0.07397548, -0.009415182, -0.008850911, -0.12578598, -0.016801784, -0.0033508842, 0.021627665, -8.641774e-05, -0.11906696, 0.017612785, 0.061458625, -0.074281566, -0.033612695, -0.062073495, -0.028942041, -0.035562478, 0.04414348, -0.030174628, -0.011601223, -0.005470814, -0.019653417, -0.023334218, 0.0026018855, -0.0685104, -0.018457714, -0.012636033, -0.057638288, -0.018579047, -0.037234027, 0.0037206965, -0.053161874, 0.021474471, 0.022585422, 0.058803517, 0.10383031, -0.015198273, 0.008532392, 0.016859582, -0.010004626, -0.041696053, 0.010036962, -0.05258904, -0.08907307, 0.093233824, 0.032294855, 0.09414716, 0.010973511, -0.026326811, 0.075548165, 0.01308367, -0.021753166, 0.01268729, 0.032852054, -0.030396609, 0.078394614, 0.0038495115, 0.05922254, -0.039462894, 0.027028477, 0.084244095, 0.055070136, -0.013291742, 0.05916056, 0.008195536, 0.04070978, 0.06249396, 0.030414715, -0.037214566, -0.08159527, -0.0077205156, -0.04203747, 0.011962463, 0.042393535, -0.021873664, -0.03229558, 0.008770641, -0.00574407, 0.04321653, 0.036921345, 0.0079861265, -0.07524796, -0.03782092, -0.0071703745, 0.0018504709, 0.019569485, -0.0223192, 0.034980226, 0.004191902, 0.101490095, -0.019773284, 0.013274914, -0.03757717, 0.0032638258, -0.006074047, -0.047172472, -0.051168963, -0.053884316, 0.018130817, -0.0077028605, 0.02788225, -0.048898418, -0.04276684, 0.030755127, 0.062450375, -0.024160266, 0.06784034, 0.053612143, 0.01679502, 0.02234289, 0.08298617, -0.032445516, 0.024032788, 0.03555462, -0.03798765, 0.09740748, 0.0030444001, 0.071459256, 0.049417984, 0.0071445913, 0.026423363, -0.008812963, -0.02207619, 0.12011163, 0.054309063, 0.036503457, 0.07626666, 0.018557569, -0.014677519, 0.019400295, -0.057540175, 0.026508199, 0.0067180814, 0.095855035, -0.047121726, -0.004746754, 0.029502135, -0.10652891, -0.006833827, 0.01151114, -0.03939374, -0.047326434, -0.030798664, -0.024621908, -0.035673127, -0.07104768, 0.037254382, -0.015713355, 0.0027896583, -0.020528302, 0.0069338228, 0.09622481, 0.054732066, 0.0009329401, 0.016029902, -0.08784925, -0.05842549, -0.029649982, 0.014565156, -0.14824614, -0.005135278, -0.049418878, -0.08924681, -0.072309695, -0.049827185, 0.055992752, -0.060481098, -0.09169237, 0.05150353, 0.017520899, -0.070818074, -0.07220034, -0.0716502, -0.11232719, -0.019363178, -0.049041253, -0.036258012, -0.01303346, 0.041882392, 0.070584156, -0.006090118, 4.538571e-06, -0.0062235775, -0.014534873, 0.021338724, 0.029110435, 0.056423143, 0.027784258, 0.11145656, 0.02657876, -0.019946866, -0.081691466, 0.041829154, 0.11640111, 0.10027996, 0.0659545, 0.04024657, -0.01039716, -0.12307861, 0.067907505, 0.0072275545, 0.0066097, -0.13088329, -0.007712186, 0.07361322, 0.019622559, -0.056424264, -0.01706818, -0.06817745, -0.00028081515, 0.05484963, -0.035556458, 0.027991002, 0.083132535, 0.042525787, -0.061651807, -0.022470035, -0.009062893, 0.008858125, 0.0029583396, -0.028126087, 0.012782155, 0.0561408, -0.05030723, 0.1068182, 0.08425464, 0.027622739, 0.0744299, -0.018959502, -0.08816721, -0.0748963, 0.05723325, 0.0071986793, -0.07204333, -0.10357724, 0.06101031, -0.028459836, 0.035038013, -0.10324853, 0.058349907, 0.0414531, -0.009144495, 0.06079538, 0.037906904, -0.03771978, -0.1036464, -0.017696815, 0.04769325, -0.044352893, 0.032935984, -0.019931553, -0.008763909, 0.056493506, 0.10831067, -0.0007806768, 0.0080083655, -0.04295281, -0.028345454, -0.007797588, 0.0015949002, 0.06916017, -0.07938349, 0.050315723, -0.0746371, -0.020307578, -0.096931174, -0.038614135, 0.04895231, -0.01170905, 0.060453024, -0.0008776865, -0.010735599, 0.041988697, 0.0019863595, -0.03614912, -0.017936306, -0.055745274, -0.03079736, -0.036673572, -0.0012389803, 0.0337591, 0.048666183, 0.058824446, -0.021206137, 0.033830132, 0.014004338, 0.073792, 0.07387519, -0.09728229, -0.07460417]),\n",
       " Record(id=0, payload={'care_home': 'Auden House care home', 'code': 'M34 5PS', 'date_review': '2021-01-08', 'provider_name': 'Auden House Care Limited', 'text': 'My mother-in-law has settled really well at Auden House. All contact with the home although usually not face to face because of the Covid crisis has been extremely positive nothing is too much trouble. We are extremely satisfied.'}, vector=[0.04297204, -0.01932403, -0.016983442, 0.06990833, 0.08644596, 0.02011874, -0.067709096, -0.043819796, -0.02143783, 0.016924912, -0.002830228, -0.0165598, 0.08164317, -0.0034793222, -0.042188924, 0.04771011, -0.048219096, -0.026057897, -0.029833106, 0.054913785, -0.09349927, 0.042045332, -0.071142614, -0.04728433, 0.015188539, 0.031117711, -0.0050438223, 0.012740169, -0.030768333, -0.0005054595, -0.05014948, -0.02721893, 0.07510682, 0.03863851, 0.08647271, 0.05440619, 0.101628296, 0.0047278358, 0.006159905, -0.074822895, 0.012392127, -0.03547483, 0.040443514, 0.02053671, -0.022405494, -0.01914929, 0.069831006, -0.044875335, -0.010639405, -0.09401075, -0.0069395145, 0.00059664575, 0.0012400817, -0.036273386, 0.0042477422, 0.06287142, 0.01762338, -0.05710371, -0.0083385995, 0.015840834, 0.022379711, 0.015197537, -0.01637081, -0.022703188, 0.008126588, 0.06161022, -0.019795928, 0.05335279, 0.070832826, -0.0049752137, 0.06553993, 0.07473975, -0.023317449, -0.03118277, -0.027460232, 0.0026244821, 0.08825111, -0.017780716, 0.01943417, 0.08239313, -0.025078729, 0.019858602, 0.02823348, 0.005926373, -0.04169535, -0.04036387, 0.038433492, 0.009419877, 0.07273656, -0.08148103, 0.11918914, 0.038509086, 0.049135543, 0.0100395605, 0.0024400698, 0.010737933, 0.064302295, -0.0046092435, -0.04498638, -0.032034304, -0.040337924, 0.0070355358, -0.016007012, 0.032893084, -0.004769281, -0.017769992, 0.025987715, 0.05032159, -0.05934925, -0.067827724, 0.037101425, -0.044999167, -0.02809441, -0.00889279, -0.018953683, 0.06328084, 0.050357338, -0.05973919, -0.091996714, -0.0014500709, -0.038237423, 0.0046340227, -0.058555227, -0.07462663, 0.04719882, -0.06992831, 0.0828385, -0.022214174, 0.023782063, 0.09840053, -0.05734204, -0.031211253, 0.07476829, -0.005945184, -0.012872603, 0.02663762, 0.0019850302, 0.001160383, 0.06152139, 0.0042520766, 0.011151119, -0.09628992, -0.037581947, 0.030799985, -0.033495314, -0.005317172, -0.04882106, 0.04514536, 0.072827116, -0.03897125, -0.05598187, 0.06940596, -0.09538381, -0.03692544, 0.068677366, -0.005561559, 0.025790427, 0.02305554, 0.03144389, 0.02723642, 0.064917035, 0.026395507, -0.0740474, 0.06805278, -0.054848213, 0.010471742, 0.0051378575, 0.10352432, -0.068565264, -0.045793016, 0.026116094, -0.0060112784, 0.03218999, -0.024821393, 0.07274405, -0.098900825, -0.06806984, -0.04930267, 0.022541223, 0.042044263, -0.05425676, 0.04954545, 0.009763947, 0.008895832, -0.00724786, 0.017337844, 0.05175971, 0.0105798915, 0.015645456, -0.13893381, -0.0056715286, -0.039888725, 0.0048918203, -0.066433884, -0.001039836, -0.0021455842, -0.07181837, 0.0024764598, -0.07348571, 0.051430065, 0.02178559, -0.03148208, -0.06298554, 0.054103408, 0.04730831, -0.05047396, 0.037397135, -0.038834766, -0.10530625, -0.031479534, 0.06658791, 0.07464484, 0.021684948, 0.01816045, -0.09460868, 0.03258871, -0.10667655, -0.012918682, 0.09157022, 0.10668996, 0.04326799, -0.041548714, 0.0642166, 0.027660223, 0.0067257667, -0.07403236, 0.040784206, 0.020237124, -0.059004314, 0.035166617, -0.019035231, -0.055054124, 0.02314786, -0.01299103, 0.04456109, 0.0044447402, 0.025814729, 0.036077563, -0.017478567, -0.012807152, -0.0031000224, -0.0006126798, -0.02040212, 0.059296384, -0.06033384, 0.0241253, 0.031103222, -0.08796498, 0.077883594, -0.02687234, 0.016195176, -0.051424824, 0.06718879, -0.023237128, -0.0026838535, -0.04924961, -0.09670605, 0.08726728, 0.028780475, 0.08676344, -0.036092523, -0.01614734, 0.005952945, 0.07583978, 0.07030316, 0.008886638, 0.011595661, -0.035898846, 0.047707587, -0.03793912, -0.0069190706, -0.10566348, -0.027238961, 0.06616549, 0.017218202, 0.005558978, -0.05819217, 0.0161667, 0.044087328, -0.01489589, 0.043799207, 0.002476353, -0.087233916, -0.03541882, -0.02197033, 0.0056998576, 0.014896046, 0.02940919, 0.11237264, 0.026792958, -0.0739939, -0.02988221, -0.0052159773, -0.030781945, -0.06449391, -0.04681934, -0.13572365, 0.004587326, 0.089271344, 0.034866698, -0.009889746, -0.020205183, -0.022508636, -0.0035107927, -0.019036517, 0.0035051568, 0.04663967, -0.05979653, 0.109005295, -0.05406569, -0.034727115, -0.016572906, 0.025236676, 0.0060035056, -0.115320474, -0.0046947733, 0.11748052, -0.053037256, 0.029954294, 0.06633764, -0.08288559, 0.10957414, -0.014420181, -0.086989395, 0.053189334, 0.08452771, 0.0618284, -0.04678249, -0.037864383, 0.055440195, -0.050103504, -0.06927444, -0.07781122, -0.03552531, 0.0038900878, 0.00993008, -0.06946425, -0.09700862, -0.064390875, -0.046226975, -0.038924627, 0.01923909, -0.0021096685, 0.118421406, -0.009688606, 0.022523772, 9.371039e-05, 0.11471046, 0.014404499, 0.0031291228, -0.063787356, 0.020309871, -0.0012284335, -0.01734035, -0.060376283, 0.049698174, 0.14034744, -0.02134437, -0.08032712, -0.09429354, -0.010601814, -0.01944721, -0.057764605, 0.024478605, 0.0038202726, -0.023699908, 0.039912157, -0.04578572, -0.00842562, -0.011743626, 0.0034469618, -0.015838454, -0.027032133, 0.15744776, 0.009360786, -0.026584601, 0.010409071, -0.053977914, 0.024897337, 0.043253213, -0.04483073, 0.03681677, -0.004431637, -0.038784023]),\n",
       " Record(id=1000, payload={'care_home': 'Clare Mount care home', 'code': 'M24 2QQ', 'date_review': '2020-06-09', 'provider_name': 'Rose Petals Health Care Ltd', 'text': 'My wife was placed in Clare Mount at the end of March 2020. She was placed directly from the hospital due to a blocked bowel and things were not looking good. After seven weeks of really good care, she is now back walking with help. She has had excellent care from all the staff.'}, vector=[-0.054080505, -0.038981706, 0.11467819, 0.06874014, 0.027993223, -0.000726209, -0.14270492, 0.02531324, -0.11731403, 0.008607016, -0.03066347, 0.0012315883, -0.026403919, 0.05064215, 0.0012386794, -0.012399989, -0.058609433, -0.073239185, 0.045152597, 0.0848236, -0.04335619, 0.023212759, -0.013736967, 0.07600334, -0.032975532, -0.001231751, 0.027106026, -0.039253388, -0.023828419, -0.023112258, -0.075956926, -0.16410525, -0.03216044, -0.06714031, 0.074223794, 0.00951422, 0.07649489, 0.06820608, -0.008747112, -0.00014350425, 0.044474114, -0.026445562, 0.021554403, -0.027080623, 0.05677921, 0.034249768, -0.030318819, -0.06770703, 0.019630149, 0.084776334, -0.03625625, -0.08374039, 0.010997742, 0.010176881, 0.015627129, -0.0023086043, 0.03163683, 0.03111421, 0.02921745, -0.04233069, 0.09969296, 0.044383906, 0.05157492, -0.021813445, 0.051038813, 0.17766081, -0.10513279, 0.048561193, 0.045053374, -0.021345878, 0.06198636, 0.038330607, 0.0451596, -0.063114084, -0.027182352, 0.019963497, 0.0061830287, 0.040383108, -0.023890832, 0.114203, -0.06601104, -0.036517844, 0.0015878114, -0.0059218765, -0.040905014, -0.02848234, 0.03878612, -0.013220687, 0.016426798, -0.02394627, -0.0046081906, 0.049369726, -0.04781634, 0.09845904, -0.062415402, 0.037020504, -0.12967205, 0.05292949, -0.0750846, 0.060273923, -0.02887278, 0.07401132, -0.023780415, 0.04476776, 0.033239774, 0.0421016, -0.029099297, -0.094317615, -0.029686917, -0.06794565, 0.087763056, 0.039078206, 0.025471253, 0.04472829, -0.028425338, 0.052044556, 0.033273257, 0.012498813, -0.038519822, -0.05764054, 0.07872724, 0.0022941453, 0.032588292, -0.06343543, -0.05839756, 0.0095756715, 0.009673416, -0.068650015, -0.0007073643, 0.0050082332, -0.041833818, 0.023694113, 0.007555596, -0.016667077, 0.021430884, -0.068782456, -0.08105039, -0.07643294, -0.028584983, 0.014072055, 0.009484827, -0.059860613, -0.047144935, -0.009993324, 0.124452695, -0.023401853, -0.0017903827, -0.032687537, -0.025350127, -0.045287095, -0.01928036, -0.040824506, 0.040862273, -0.03611244, 0.01537759, 0.034981463, -0.08216714, 0.066190384, -0.04271233, 0.04357173, 0.050804324, 0.019307801, 0.022708785, -0.05638391, -0.0107717635, -0.022259181, -0.031921264, -0.010765284, 0.005687551, 0.005714184, 0.05236208, 0.10980759, 0.0003344573, -0.016204555, 0.010102751, -0.044335138, 0.013826676, -0.11726246, 0.017827343, -0.011210174, -0.069946095, -0.026617356, 0.036164492, -0.023400476, -0.042292345, -0.004740849, 0.03351329, 0.021551482, 0.029346133, 0.0058408175, 0.05934547, 0.04128667, -0.033815563, -0.0119425, 0.04699987, 0.0013745415, -0.017805109, -0.012856697, -0.052930277, 0.12005178, -0.04839229, -0.04885596, -0.050330892, 0.03897309, -0.009480826, -0.07138971, 0.07359087, 0.040341415, 0.048322126, -0.018586325, 0.0036466534, 0.07669045, -0.013573531, -0.072597094, -0.0016042686, 0.035371028, 0.07142196, -0.0086980015, 0.027518779, 0.078352906, 0.029802283, 0.013043099, 0.01573641, 0.018568372, 0.062816024, -0.030236216, 0.040491212, -0.025517344, -0.077308476, -0.020242961, 0.029172018, 0.046101823, -0.016487883, 0.050620385, 0.037565336, -0.05565762, 0.03599911, 0.064771585, 0.017318465, 0.052982736, 0.061113175, -0.11275661, -0.06621359, -0.004973786, 0.06901465, 0.03581161, -0.06568692, 0.018189827, -0.0075036874, 0.06664433, -0.04518121, -0.021101521, -0.081713945, -0.11475732, -0.062048417, 0.021600215, -0.047404543, 0.022862663, -0.01884354, 0.089991115, 0.044903737, -0.00395147, 0.07139677, -0.06971307, 0.034064114, -0.02432636, -0.02975752, -0.024507778, 0.012368272, -0.09073451, 0.07710902, -0.005073959, 0.012027958, 0.087328285, -0.044550307, 0.0046681035, -0.00036903517, 0.06032059, 0.028380059, 0.034078654, -0.06639645, -0.048859887, -0.023960024, 0.065770745, 0.029664284, -0.09950315, 0.025679508, -0.0079366835, 0.036455486, 0.013151645, 0.03793485, -0.027005939, -0.09979122, 0.01767801, 0.030349722, 0.055211384, 0.0030368757, -0.028008893, 0.11632344, 0.018252399, -0.0016400707, -0.052457903, -0.018456854, 0.0033972864, -0.016971016, -0.028084958, -0.065328464, -0.043160044, -0.012776668, -0.046084113, 0.038834598, 0.0006191621, -0.018766677, -0.09635353, -0.056295794, -0.058890432, -0.012787066, -0.05497332, -0.006911265, 0.032974023, 0.031029623, 0.09661854, -0.083792776, -0.058423553, -0.049238693, -0.1195179, -0.033234984, -0.0112005025, 0.02171695, 0.02181411, -0.069330774, -0.0026268463, 0.004037637, -0.046089977, -0.01588921, 0.02034775, -0.03783297, -0.013865798, -0.03515791, -0.041468948, 0.014653352, -0.04744919, 0.037123945, 0.032445002, -0.03515328, -0.08856395, 0.04243114, 0.10192354, -0.018855918, -0.035890292, 0.014930026, -0.031358298, 0.04636991, 0.031929027, 0.028674861, 0.021138815, 0.058755238, 0.035998728, -0.026156891, -0.020874208, 0.041768663, 0.036652427, -0.027851675, 0.01351083, -0.031248976, -0.0020902422, 0.007938194, 0.11283139, -0.050193243, 0.025658661, -0.034715675, 0.034183268, 0.060489237, 0.07085662, 0.01272194, 0.05994084, 0.08181661, -0.016579157, 0.005801133, 0.11823916, -0.06793221, -0.07808502, -0.012678406, -0.013388513])]"
      ]
     },
     "execution_count": 21,
     "metadata": {},
     "output_type": "execute_result"
    }
   ],
   "source": [
    "# Check vectors loaded\n",
    "\n",
    "client.retrieve(\n",
    "    collection_name=os.environ['QDRANT_COLLECTION_NAME'],\n",
    "    ids=[0, 100, 1000],\n",
    "    with_vectors=True # the default is False\n",
    ")\n"
   ]
  },
  {
   "cell_type": "code",
   "execution_count": 20,
   "metadata": {},
   "outputs": [
    {
     "data": {
      "text/plain": [
       "([Record(id=0, payload={'care_home': 'Auden House care home', 'code': 'M34 5PS', 'date_review': '2021-01-08', 'provider_name': 'Auden House Care Limited', 'text': 'My mother-in-law has settled really well at Auden House. All contact with the home although usually not face to face because of the Covid crisis has been extremely positive nothing is too much trouble. We are extremely satisfied.'}, vector=None),\n",
       "  Record(id=1, payload={'care_home': 'Auden House care home', 'code': 'M34 5PS', 'date_review': '2020-12-15', 'provider_name': 'Auden House Care Limited', 'text': \"Auden House is a breath of fresh air. It provides a safe, caring and friendly home for a treasured Aunt and allows her family and friends to rest easy in the knowledge that she is happy and well cared for. Her individual quirks and foibles are accepted gracefully and with good humour and my aunt has flourished since she has been a resident. I couldn't recommend Auden House more highly. The staff are always helpful and clearly prioritise the wellbeing of their residents above all else. The property and garden are all we could wish for in this handy and pleasant location. Thank you everyone working at Auden House.\"}, vector=None),\n",
       "  Record(id=2, payload={'care_home': 'Auden House care home', 'code': 'M34 5PS', 'date_review': '2020-12-15', 'provider_name': 'Auden House Care Limited', 'text': \"My father moved into the care home in May 2020. He was no longer able to care for himself safely alone. Due to Covid restrictions, visiting is understandably restricted. The staff which I and my family have dealt with, have been exceptional. Nothing seems too much trouble for them, and Dad thinks it's marvellous being waited on! You are also kept up to date with regular emails to keep you informed. Thank you for all you are doing.\"}, vector=None),\n",
       "  Record(id=3, payload={'care_home': 'Auden House care home', 'code': 'M34 5PS', 'date_review': '2020-12-15', 'provider_name': 'Auden House Care Limited', 'text': 'My Mum has been a resident in Auden House for over 2 years. The care from all the staff is second to none. Mum has been so well looked after during this time and her care has been provided with such professionalism, kindness, and caring attention. Thankfully, my Mum has been kept safe this year from the pandemic, due to the hard-working staff. The meals are excellent and very nutritious.  I know that I can telephone at any time if I have any queries. I am extremely pleased that Mum is in Auden House.'}, vector=None),\n",
       "  Record(id=4, payload={'care_home': 'Auden House care home', 'code': 'M34 5PS', 'date_review': '2020-12-15', 'provider_name': 'Auden House Care Limited', 'text': \"Our mum originally went into Auden House in June 2020 for respite care but has since become a permanent resident. The standard of care which Mum has received has been excellent to date and exactly what we were looking for. She has previously been living alone in an assisted flat for years but now has people around her all day to give her the care and company that she so badly needs.\\r\\nI can't thank the manager and her team enough for what they are doing for Mum. She has got back the spirit that she had lost, due to her poor health and recovery from a heart attack earlier this year and we are happy that Mum is safe and being looked after really well. We have a very good relationship with all the staff at Auden House. They are always really pleasant and helpful, even during the really stressful year which everyone has been experiencing. I would highly recommend Auden House as a care provider for anyone looking for high-quality care for an elderly relative.\"}, vector=None),\n",
       "  Record(id=5, payload={'care_home': 'Auden House care home', 'code': 'M34 5PS', 'date_review': '2020-11-30', 'provider_name': 'Auden House Care Limited', 'text': 'When we found Auden House we struck gold. My Mum has been so well cared for by a team of wonderful people. Very professional, my mum had dementia and with an excellent care plan of activities, she thrived in a wonderful atmosphere of an amazing staff. The meals are home-cooked with excellent choices for individual tastes by an amazing kitchen team. Auden House is spotlessly clean and home from home with a very friendly atmosphere. Covid has been challenging for everyone, but especially those in care homes, both residents and staff, but despite everything, the team at Auden House could not have done more. Always with a smile and always so caring.'}, vector=None),\n",
       "  Record(id=6, payload={'care_home': 'Worthington Lake Care Home', 'code': 'WN1 2XN', 'date_review': '2021-01-06', 'provider_name': 'Millennium Care (U.K.) Limited', 'text': 'Unable to visit my brother, I have followed the activities of Worthington Lakes on Facebook. I think the staff have gone above and beyond to make a wonderful Christmas for their residents. The staff have been remarkable in entertaining and involving their residents, the decorations look great and the food so good. I have just spent my first ever Christmas alone because of the virus and I have felt quite envious of my brother having all this wonderful care and attention. Well done and a huge thank you to all the staff.'}, vector=None),\n",
       "  Record(id=7, payload={'care_home': 'Worthington Lake Care Home', 'code': 'WN1 2XN', 'date_review': '2020-12-01', 'provider_name': 'Millennium Care (U.K.) Limited', 'text': 'Mum has been in the home for approximately four months. Initial anxiousness and fear displayed by Mum for over a year, prior to becoming a resident, not evident now. Unbelievable how Mum has settled and looks so happy and content. She has been allowed to retain her independence as far as possible and is treated with such skilled care and respect. I cannot praise the staff enough with all the activities offered to Mum. She is stimulated by these, catered to her likes e.g. singing. It gives me some peace of mind to know she is safe and happy. Thank you.'}, vector=None),\n",
       "  Record(id=8, payload={'care_home': 'Worthington Lake Care Home', 'code': 'WN1 2XN', 'date_review': '2020-03-17', 'provider_name': 'Millennium Care (U.K.) Limited', 'text': 'Dad has been at Worthington Lake since Sept 2019. It was a big step for him but he was unable to cope at home on his own anymore. The surroundings, staff and care provided are way above any other care homes we visited in the area. It is comforting to know he is being well cared for.'}, vector=None),\n",
       "  Record(id=9, payload={'care_home': 'Worthington Lake Care Home', 'code': 'WN1 2XN', 'date_review': '2020-03-09', 'provider_name': 'Millennium Care (U.K.) Limited', 'text': 'My mum is currently a resident in this care home, and I can not praise the home or the staff enough for the care that my mum is receiving.\\r\\nStaff are all fully trained in dementia care and treat my mum with patience, dignity and respect. \\r\\nThe owner is a very caring individual and strives to put the needs of the residents at the forefront, and welcomes any feedback from families. \\r\\nI feel that I can live my life knowing that my mum is well cared for. \\r\\nThe food is prepared freshly, and cakes are baked daily. \\r\\nAny visitor is treated as part of the family and even having a spot of lunch with my mum when I visit is not a problem.\\r\\nI would recommend this care home as being one of the best in the area.'}, vector=None)],\n",
       " 10)"
      ]
     },
     "execution_count": 20,
     "metadata": {},
     "output_type": "execute_result"
    }
   ],
   "source": [
    "client.scroll(\n",
    "    collection_name=os.environ['QDRANT_COLLECTION_NAME'],\n",
    "    limit=10,\n",
    "    with_payload=True,\n",
    "    with_vectors=False  \n",
    "    \n",
    ")"
   ]
  },
  {
   "cell_type": "code",
   "execution_count": null,
   "metadata": {},
   "outputs": [],
   "source": []
  },
  {
   "cell_type": "code",
   "execution_count": 204,
   "metadata": {},
   "outputs": [
    {
     "data": {
      "text/plain": [
       "CollectionInfo(status=<CollectionStatus.GREEN: 'green'>, optimizer_status=<OptimizersStatusOneOf.OK: 'ok'>, vectors_count=1436, indexed_vectors_count=0, points_count=1436, segments_count=2, config=CollectionConfig(params=CollectionParams(vectors=VectorParams(size=384, distance=<Distance.COSINE: 'Cosine'>, hnsw_config=None, quantization_config=None, on_disk=None), shard_number=1, replication_factor=1, write_consistency_factor=1, on_disk_payload=True), hnsw_config=HnswConfig(m=16, ef_construct=100, full_scan_threshold=10000, max_indexing_threads=0, on_disk=False, payload_m=None), optimizer_config=OptimizersConfig(deleted_threshold=0.2, vacuum_min_vector_number=1000, default_segment_number=0, max_segment_size=None, memmap_threshold=None, indexing_threshold=20000, flush_interval_sec=5, max_optimization_threads=1), wal_config=WalConfig(wal_capacity_mb=32, wal_segments_ahead=0), quantization_config=None), payload_schema={})"
      ]
     },
     "execution_count": 204,
     "metadata": {},
     "output_type": "execute_result"
    }
   ],
   "source": [
    "# Get information about the collection\n",
    "client.get_collection(collection_name=os.environ['QDRANT_COLLECTION_NAME'])"
   ]
  },
  {
   "cell_type": "code",
   "execution_count": null,
   "metadata": {},
   "outputs": [],
   "source": []
  }
 ],
 "metadata": {
  "kernelspec": {
   "display_name": ".venv",
   "language": "python",
   "name": "python3"
  },
  "language_info": {
   "codemirror_mode": {
    "name": "ipython",
    "version": 3
   },
   "file_extension": ".py",
   "mimetype": "text/x-python",
   "name": "python",
   "nbconvert_exporter": "python",
   "pygments_lexer": "ipython3",
   "version": "3.11.3"
  },
  "orig_nbformat": 4
 },
 "nbformat": 4,
 "nbformat_minor": 2
}
